{
 "cells": [
  {
   "cell_type": "code",
   "execution_count": 1,
   "id": "bdc2e9f3",
   "metadata": {},
   "outputs": [],
   "source": [
    "from azure.cognitiveservices.vision.face import FaceClient\n",
    "from msrest.authentication import CognitiveServicesCredentials"
   ]
  },
  {
   "cell_type": "code",
   "execution_count": 2,
   "id": "a38b8ac5",
   "metadata": {},
   "outputs": [],
   "source": [
    "KEY = 'fc4d70be604447858ad561a46367489b'\n",
    "ENDPOINT = 'https://face-ai-bot.cognitiveservices.azure.com/' # ****.comまで\n",
    "# FaceAPIクライアントのインスタンス作成\n",
    "face_client = FaceClient(ENDPOINT, CognitiveServicesCredentials(KEY))\n"
   ]
  },
  {
   "cell_type": "code",
   "execution_count": 3,
   "id": "15e18d61",
   "metadata": {},
   "outputs": [],
   "source": [
    "url = 'https://pics.prcm.jp/6efa26889a740/82108524/jpeg/82108524.jpeg'"
   ]
  },
  {
   "cell_type": "code",
   "execution_count": 4,
   "id": "2abbbb1c",
   "metadata": {},
   "outputs": [
    {
     "name": "stdout",
     "output_type": "stream",
     "text": [
      "[<azure.cognitiveservices.vision.face.models._models_py3.DetectedFace object at 0x1089a2d90>]\n"
     ]
    }
   ],
   "source": [
    "# URL指定によって顔検出\n",
    "detected_faces = face_client.face.detect_with_url(\n",
    "    url = url, \n",
    "    return_face_attributes = ['age','gender','smile','glasses','emotion']\n",
    ")\n",
    "print(detected_faces)"
   ]
  },
  {
   "cell_type": "code",
   "execution_count": 5,
   "id": "aa8a6212",
   "metadata": {},
   "outputs": [
    {
     "name": "stdout",
     "output_type": "stream",
     "text": [
      "{'additional_properties': {}, 'face_id': 'c3afc575-a88c-48b7-ae02-4906da3a4663', 'recognition_model': None, 'face_rectangle': <azure.cognitiveservices.vision.face.models._models_py3.FaceRectangle object at 0x1089a2d10>, 'face_landmarks': None, 'face_attributes': <azure.cognitiveservices.vision.face.models._models_py3.FaceAttributes object at 0x1089a2d50>}\n"
     ]
    }
   ],
   "source": [
    "print(detected_faces[0])"
   ]
  },
  {
   "cell_type": "code",
   "execution_count": 6,
   "id": "44dfa16e",
   "metadata": {},
   "outputs": [
    {
     "name": "stdout",
     "output_type": "stream",
     "text": [
      "{'additional_properties': {}, 'age': 24.0, 'gender': <Gender.male: 'male'>, 'smile': 0.004, 'facial_hair': None, 'glasses': <GlassesType.no_glasses: 'noGlasses'>, 'head_pose': None, 'emotion': <azure.cognitiveservices.vision.face.models._models_py3.Emotion object at 0x1089a2e10>, 'hair': None, 'makeup': None, 'occlusion': None, 'accessories': None, 'blur': None, 'exposure': None, 'noise': None, 'mask': None}\n"
     ]
    }
   ],
   "source": [
    "print(detected_faces[0].face_attributes)"
   ]
  },
  {
   "cell_type": "code",
   "execution_count": 7,
   "id": "c0653741",
   "metadata": {},
   "outputs": [
    {
     "name": "stdout",
     "output_type": "stream",
     "text": [
      "[<azure.cognitiveservices.vision.face.models._models_py3.DetectedFace object at 0x1089c5dd0>]\n"
     ]
    }
   ],
   "source": [
    "# 読み込んだ画像を送信して顔検出\n",
    "with open('img/yosizawa.jpeg', 'rb') as image:\n",
    "    detected_faces_2 = face_client.face.detect_with_stream(\n",
    "        image, \n",
    "        return_face_attributes = ['age','gender','smile','glasses','emotion']\n",
    "    )\n",
    "print(detected_faces_2)"
   ]
  },
  {
   "cell_type": "code",
   "execution_count": 8,
   "id": "47294ffe",
   "metadata": {},
   "outputs": [
    {
     "name": "stdout",
     "output_type": "stream",
     "text": [
      "{'additional_properties': {}, 'face_id': '1b741add-1de5-4834-8366-dd60ce6f28df', 'recognition_model': None, 'face_rectangle': <azure.cognitiveservices.vision.face.models._models_py3.FaceRectangle object at 0x1089c5d50>, 'face_landmarks': None, 'face_attributes': <azure.cognitiveservices.vision.face.models._models_py3.FaceAttributes object at 0x1089c5d90>}\n",
      "{'additional_properties': {}, 'age': 27.0, 'gender': <Gender.male: 'male'>, 'smile': 0.855, 'facial_hair': None, 'glasses': <GlassesType.no_glasses: 'noGlasses'>, 'head_pose': None, 'emotion': <azure.cognitiveservices.vision.face.models._models_py3.Emotion object at 0x1089c5e50>, 'hair': None, 'makeup': None, 'occlusion': None, 'accessories': None, 'blur': None, 'exposure': None, 'noise': None, 'mask': None}\n"
     ]
    }
   ],
   "source": [
    "print(detected_faces_2[0])\n",
    "print(detected_faces_2[0].face_attributes)"
   ]
  },
  {
   "cell_type": "code",
   "execution_count": 9,
   "id": "5373c803",
   "metadata": {},
   "outputs": [],
   "source": [
    "face_id_1 = detected_faces[0].face_id\n",
    "face_id_2 = detected_faces_2[0].face_id"
   ]
  },
  {
   "cell_type": "code",
   "execution_count": 10,
   "id": "57796216",
   "metadata": {},
   "outputs": [
    {
     "name": "stdout",
     "output_type": "stream",
     "text": [
      "{'additional_properties': {}, 'is_identical': False, 'confidence': 0.46761}\n"
     ]
    }
   ],
   "source": [
    "# 2つの顔が同じ人物かどうか判定する\n",
    "verified = face_client.face.verify_face_to_face(face_id_1, face_id_2)\n",
    "print(verified)"
   ]
  },
  {
   "cell_type": "code",
   "execution_count": 11,
   "id": "7251285c",
   "metadata": {},
   "outputs": [],
   "source": [
    "# Person GroupのIDを指定\n",
    "person_group_id = 'moviestars'"
   ]
  },
  {
   "cell_type": "code",
   "execution_count": 12,
   "id": "a1bd9de6",
   "metadata": {},
   "outputs": [],
   "source": [
    "# moviestarsというグループを作成する\n",
    "face_client.person_group.update(\n",
    "    person_group_id,\n",
    "    name='Person Group for LINE Bot'\n",
    ")"
   ]
  },
  {
   "cell_type": "code",
   "execution_count": 13,
   "id": "c955622d",
   "metadata": {},
   "outputs": [
    {
     "name": "stdout",
     "output_type": "stream",
     "text": [
      "{'additional_properties': {}, 'name': 'Person Group for LINE Bot', 'user_data': None, 'recognition_model': None, 'person_group_id': 'moviestars'}\n"
     ]
    }
   ],
   "source": [
    "# person groupを確認\n",
    "moviestars = face_client.person_group.get(person_group_id)\n",
    "print(moviestars)"
   ]
  },
  {
   "cell_type": "code",
   "execution_count": 14,
   "id": "c6f552b5",
   "metadata": {},
   "outputs": [],
   "source": [
    "# 吉沢亮の名前登録\n",
    "yosizawa_name = 'Ryo Yosizawa'"
   ]
  },
  {
   "cell_type": "code",
   "execution_count": 15,
   "id": "888a8f38",
   "metadata": {},
   "outputs": [
    {
     "name": "stdout",
     "output_type": "stream",
     "text": [
      "{'additional_properties': {}, 'name': None, 'user_data': None, 'person_id': 'be7e0872-f969-4970-a797-93b7d5212ed6', 'persisted_face_ids': None}\n"
     ]
    }
   ],
   "source": [
    "# Personを登録\n",
    "yosizawa = face_client.person_group_person.create(\n",
    "    person_group_id = moviestars.person_group_id, # PersonGroupのIDを指定\n",
    "    name = yosizawa_name # 登録するPersonの名前を指定\n",
    ")\n",
    "print(yosizawa)"
   ]
  },
  {
   "cell_type": "code",
   "execution_count": 16,
   "id": "d1aa3c8b",
   "metadata": {},
   "outputs": [
    {
     "name": "stdout",
     "output_type": "stream",
     "text": [
      "{'additional_properties': {}, 'persisted_face_id': '13b4785f-c3ac-495a-a393-e2d100b7a02c', 'user_data': None}\n"
     ]
    }
   ],
   "source": [
    "# 画像送信でオードリーヘップバーンの顔写真をPersonに紐づける\n",
    "with open('img/yosizawa.jpeg', 'rb') as image:\n",
    "    audery_face_1 = face_client.person_group_person.add_face_from_stream(\n",
    "        person_group_id = moviestars.person_group_id,\n",
    "        person_id = yosizawa.person_id,\n",
    "        image = image\n",
    "    )\n",
    "print(audery_face_1)"
   ]
  },
  {
   "cell_type": "code",
   "execution_count": 17,
   "id": "4edae695",
   "metadata": {},
   "outputs": [
    {
     "name": "stdout",
     "output_type": "stream",
     "text": [
      "{'additional_properties': {}, 'persisted_face_id': '41c3c661-62f7-40b4-8e8c-feaec102ff4a', 'user_data': None}\n"
     ]
    }
   ],
   "source": [
    "# 画像送信でオードリーヘップバーンの顔写真をPersonに紐づける\n",
    "with open('img/yosizawa2.jpeg', 'rb') as image:\n",
    "    audery_face_2 = face_client.person_group_person.add_face_from_stream(\n",
    "        person_group_id = moviestars.person_group_id,\n",
    "        person_id = yosizawa.person_id,\n",
    "        image = image\n",
    "    )\n",
    "print(audery_face_2)"
   ]
  },
  {
   "cell_type": "code",
   "execution_count": 18,
   "id": "899e5e3f",
   "metadata": {},
   "outputs": [
    {
     "name": "stdout",
     "output_type": "stream",
     "text": [
      "{'additional_properties': {}, 'persisted_face_id': '515e3105-adfa-4643-80a1-6dbbbc5576c0', 'user_data': None}\n"
     ]
    }
   ],
   "source": [
    "# 画像送信でオードリーヘップバーンの顔写真をPersonに紐づける\n",
    "with open('img/yosizawa3.jpeg', 'rb') as image:\n",
    "    audery_face_3 = face_client.person_group_person.add_face_from_stream(\n",
    "        person_group_id = moviestars.person_group_id,\n",
    "        person_id = yosizawa.person_id,\n",
    "        image = image\n",
    "    )\n",
    "print(audery_face_3)"
   ]
  },
  {
   "cell_type": "code",
   "execution_count": 19,
   "id": "f6946e2a",
   "metadata": {},
   "outputs": [
    {
     "name": "stdout",
     "output_type": "stream",
     "text": [
      "{'additional_properties': {}, 'persisted_face_id': '22a890c7-1c40-44af-9a9a-7b3326ac560c', 'user_data': None}\n"
     ]
    }
   ],
   "source": [
    "# 画像送信でオードリーヘップバーンの顔写真をPersonに紐づける\n",
    "with open('img/yosizawa4.png', 'rb') as image:\n",
    "    audery_face_4 = face_client.person_group_person.add_face_from_stream(\n",
    "        person_group_id = moviestars.person_group_id,\n",
    "        person_id = yosizawa.person_id,\n",
    "        image = image\n",
    "    )\n",
    "print(audery_face_4)"
   ]
  },
  {
   "cell_type": "code",
   "execution_count": 20,
   "id": "b64ce669",
   "metadata": {},
   "outputs": [
    {
     "name": "stdout",
     "output_type": "stream",
     "text": [
      "{'additional_properties': {}, 'name': None, 'user_data': None, 'person_id': 'be7e0872-f969-4970-a797-93b7d5212ed6', 'persisted_face_ids': None}\n"
     ]
    }
   ],
   "source": [
    "print(yosizawa)"
   ]
  },
  {
   "cell_type": "code",
   "execution_count": 21,
   "id": "66e83eb8",
   "metadata": {},
   "outputs": [
    {
     "name": "stdout",
     "output_type": "stream",
     "text": [
      "{'additional_properties': {}, 'name': 'Ryo Yosizawa', 'user_data': None, 'person_id': 'be7e0872-f969-4970-a797-93b7d5212ed6', 'persisted_face_ids': ['13b4785f-c3ac-495a-a393-e2d100b7a02c', '22a890c7-1c40-44af-9a9a-7b3326ac560c', '41c3c661-62f7-40b4-8e8c-feaec102ff4a', '515e3105-adfa-4643-80a1-6dbbbc5576c0']}\n"
     ]
    }
   ],
   "source": [
    "# PersonGroupPerson get で最新のPerson情報を取得する\n",
    "yosizawa = face_client.person_group_person.get(\n",
    "        person_group_id = moviestars.person_group_id,\n",
    "        person_id = yosizawa.person_id\n",
    "    )\n",
    "print(yosizawa)"
   ]
  },
  {
   "cell_type": "code",
   "execution_count": 22,
   "id": "a9344227",
   "metadata": {},
   "outputs": [],
   "source": [
    "url='https://res.cloudinary.com/voce/image/fetch/w_750,f_auto,q_auto:eco/https://wp.i-voce.jp/wp-content/uploads/LvHjcT18_1597975878.jpg'"
   ]
  },
  {
   "cell_type": "code",
   "execution_count": 23,
   "id": "44924ad4",
   "metadata": {},
   "outputs": [
    {
     "name": "stdout",
     "output_type": "stream",
     "text": [
      "{'additional_properties': {}, 'face_id': '98a3a3ea-0950-4a31-b54b-4a3159f636c4', 'recognition_model': None, 'face_rectangle': <azure.cognitiveservices.vision.face.models._models_py3.FaceRectangle object at 0x1089d1ed0>, 'face_landmarks': None, 'face_attributes': None}\n"
     ]
    }
   ],
   "source": [
    "# 検証用の顔検出\n",
    "detected_faces_3 = face_client.face.detect_with_url(url)\n",
    "print(detected_faces_3[0])"
   ]
  },
  {
   "cell_type": "code",
   "execution_count": 24,
   "id": "ff7b00eb",
   "metadata": {},
   "outputs": [
    {
     "name": "stdout",
     "output_type": "stream",
     "text": [
      "{'additional_properties': {}, 'is_identical': True, 'confidence': 0.77248}\n"
     ]
    }
   ],
   "source": [
    "# personとfaceの比較\n",
    "verified = face_client.face.verify_face_to_person(\n",
    "    face_id = detected_faces_3[0].face_id,\n",
    "    person_group_id = moviestars.person_group_id,\n",
    "    person_id = yosizawa.person_id\n",
    ")\n",
    "print(verified)"
   ]
  },
  {
   "cell_type": "code",
   "execution_count": 25,
   "id": "ea5e323b",
   "metadata": {},
   "outputs": [
    {
     "name": "stdout",
     "output_type": "stream",
     "text": [
      "{'additional_properties': {}, 'name': 'Ryo Yosizawa', 'user_data': None, 'person_id': '595ac76e-3838-4b72-bb76-c96aae8864f7', 'persisted_face_ids': ['29989b64-788d-41fa-b622-8c8a9f67e2de', '2dc532df-f33c-4e25-8c6e-ce45f0795deb', '31784784-fd50-4bab-90a1-eba8064aa52b', '6e7a0fd8-54d5-4c60-aa5c-771c0074fecc']}\n"
     ]
    }
   ],
   "source": [
    "print(face_client.person_group_person.list('moviestars')[0])"
   ]
  },
  {
   "cell_type": "code",
   "execution_count": 26,
   "id": "f588283a",
   "metadata": {},
   "outputs": [
    {
     "name": "stdout",
     "output_type": "stream",
     "text": [
      "{'additional_properties': {}, 'name': 'Ryo Yosizawa', 'user_data': None, 'person_id': '5cc0f9c9-31f1-49a7-b794-aeaa4f723ed9', 'persisted_face_ids': ['0f3fb2b2-8fb1-42c0-9c15-669889e98573', '26e6dc0d-67a8-445b-a2e4-dc7e8523e99b', '742afa3d-70e2-4aa2-ba58-d2642d3cc743', '9ffbc535-e22c-49cd-8400-16b250edfb6e']}\n"
     ]
    }
   ],
   "source": [
    "print(face_client.person_group_person.list('moviestars')[1])"
   ]
  },
  {
   "cell_type": "code",
   "execution_count": 27,
   "id": "d253e834",
   "metadata": {},
   "outputs": [
    {
     "name": "stdout",
     "output_type": "stream",
     "text": [
      "[<azure.cognitiveservices.vision.face.models._models_py3.Person object at 0x1089ffa10>, <azure.cognitiveservices.vision.face.models._models_py3.Person object at 0x1089ff990>, <azure.cognitiveservices.vision.face.models._models_py3.Person object at 0x1089ffa50>, <azure.cognitiveservices.vision.face.models._models_py3.Person object at 0x1089ffa90>, <azure.cognitiveservices.vision.face.models._models_py3.Person object at 0x1089ffad0>, <azure.cognitiveservices.vision.face.models._models_py3.Person object at 0x1089ffb90>, <azure.cognitiveservices.vision.face.models._models_py3.Person object at 0x1089ff9d0>, <azure.cognitiveservices.vision.face.models._models_py3.Person object at 0x1089ffbd0>]\n"
     ]
    }
   ],
   "source": [
    "print(face_client.person_group_person.list('moviestars'))"
   ]
  },
  {
   "cell_type": "code",
   "execution_count": 28,
   "id": "01461ef1",
   "metadata": {},
   "outputs": [
    {
     "name": "stdout",
     "output_type": "stream",
     "text": [
      "{'additional_properties': {}, 'name': 'Ryo Yosizawa', 'user_data': None, 'person_id': '7145d158-19dc-48c0-9126-cc713d907a1e', 'persisted_face_ids': ['478a1d70-7026-4b8b-99e9-036531a6c880', '54c5b4dd-7082-436e-8bab-dd82f78dd95f', '9d5f1120-034d-4076-b12a-ff40608d5e27', 'd9afd6bc-1d8c-4cdc-84c3-2607049eecdb']}\n"
     ]
    }
   ],
   "source": [
    "print(face_client.person_group_person.list('moviestars')[2])"
   ]
  },
  {
   "cell_type": "code",
   "execution_count": 29,
   "id": "d591a80a",
   "metadata": {},
   "outputs": [
    {
     "name": "stdout",
     "output_type": "stream",
     "text": [
      "{'additional_properties': {}, 'name': 'Ryo Yosizawa', 'user_data': None, 'person_id': '818282a3-dc45-478b-aecc-9d77286c44ec', 'persisted_face_ids': ['6bb04853-cc9c-4c58-b908-5f0d65b43e7d', 'af4c6308-083a-4d38-bc35-dc1facc2fa76', 'd938d523-59dc-4dc3-a65f-11b82544a1c1']}\n"
     ]
    }
   ],
   "source": [
    "print(face_client.person_group_person.list('moviestars')[3])"
   ]
  },
  {
   "cell_type": "code",
   "execution_count": 30,
   "id": "01bad175",
   "metadata": {},
   "outputs": [
    {
     "name": "stdout",
     "output_type": "stream",
     "text": [
      "{'additional_properties': {}, 'name': 'Ryo Yosizawa', 'user_data': None, 'person_id': 'be7e0872-f969-4970-a797-93b7d5212ed6', 'persisted_face_ids': ['13b4785f-c3ac-495a-a393-e2d100b7a02c', '22a890c7-1c40-44af-9a9a-7b3326ac560c', '41c3c661-62f7-40b4-8e8c-feaec102ff4a', '515e3105-adfa-4643-80a1-6dbbbc5576c0']}\n"
     ]
    }
   ],
   "source": [
    "print(face_client.person_group_person.list('moviestars')[4])"
   ]
  },
  {
   "cell_type": "code",
   "execution_count": 31,
   "id": "4db748af",
   "metadata": {},
   "outputs": [
    {
     "name": "stdout",
     "output_type": "stream",
     "text": [
      "{'additional_properties': {}, 'name': 'Ryo Yosizawa', 'user_data': None, 'person_id': 'e8cec78b-7bbd-43dd-82b0-365934ea3068', 'persisted_face_ids': []}\n"
     ]
    }
   ],
   "source": [
    "print(face_client.person_group_person.list('moviestars')[5])"
   ]
  },
  {
   "cell_type": "code",
   "execution_count": 32,
   "id": "cf6f212e",
   "metadata": {},
   "outputs": [
    {
     "name": "stdout",
     "output_type": "stream",
     "text": [
      "{'additional_properties': {}, 'name': 'Ryo Yosizawa', 'user_data': None, 'person_id': 'f02ce9a9-ff0c-4a72-a71e-eb0fe8716b37', 'persisted_face_ids': ['5580917e-2fec-46aa-8ef0-ce3896f312e9', '8b25c8d3-a70c-4059-b562-9c5ec88f08a3', '8eddd54d-d0b0-471f-a0a1-093b3396ad03']}\n"
     ]
    }
   ],
   "source": [
    "print(face_client.person_group_person.list('moviestars')[6])"
   ]
  },
  {
   "cell_type": "code",
   "execution_count": 33,
   "id": "89d96024",
   "metadata": {},
   "outputs": [],
   "source": [
    "# Person GroupのIDを変更\n",
    "person_group_id = 'ikemen'"
   ]
  },
  {
   "cell_type": "code",
   "execution_count": 36,
   "id": "a47f3bfe",
   "metadata": {},
   "outputs": [],
   "source": [
    "# ikemenというグループを作成する\n",
    "face_client.person_group.create(\n",
    "    person_group_id,\n",
    "    name='IkemenPerson Group for LINE Bot'\n",
    ")"
   ]
  },
  {
   "cell_type": "code",
   "execution_count": 37,
   "id": "4918fe1c",
   "metadata": {},
   "outputs": [
    {
     "name": "stdout",
     "output_type": "stream",
     "text": [
      "{'additional_properties': {}, 'name': 'IkemenPerson Group for LINE Bot', 'user_data': None, 'recognition_model': None, 'person_group_id': 'ikemen'}\n"
     ]
    }
   ],
   "source": [
    "# person groupを確認\n",
    "ikemens = face_client.person_group.get(person_group_id)\n",
    "print(ikemens)"
   ]
  },
  {
   "cell_type": "code",
   "execution_count": 38,
   "id": "7d8dcf09",
   "metadata": {},
   "outputs": [],
   "source": [
    "# 吉沢亮の名前登録\n",
    "yosizawa_name = 'Ryo Yosizawa'"
   ]
  },
  {
   "cell_type": "code",
   "execution_count": 42,
   "id": "76c65266",
   "metadata": {},
   "outputs": [
    {
     "name": "stdout",
     "output_type": "stream",
     "text": [
      "{'additional_properties': {}, 'name': None, 'user_data': None, 'person_id': 'ba4e7c50-b5f1-4386-b318-28ef04460d9d', 'persisted_face_ids': None}\n"
     ]
    }
   ],
   "source": [
    "# Personを登録\n",
    "yosizawa = face_client.person_group_person.create(\n",
    "    person_group_id = ikemens.person_group_id, # PersonGroupのIDを指定\n",
    "    name = yosizawa_name # 登録するPersonの名前を指定\n",
    ")\n",
    "print(yosizawa)"
   ]
  },
  {
   "cell_type": "code",
   "execution_count": 43,
   "id": "fb01b7e1",
   "metadata": {},
   "outputs": [
    {
     "name": "stdout",
     "output_type": "stream",
     "text": [
      "{'additional_properties': {}, 'persisted_face_id': 'a81b45f3-bc04-4a7c-96a8-f05d84f63c71', 'user_data': None}\n"
     ]
    }
   ],
   "source": [
    "# 画像送信でオードリーヘップバーンの顔写真をPersonに紐づける\n",
    "with open('img/yosizawa.jpeg', 'rb') as image:\n",
    "    yosizawa_face_1 = face_client.person_group_person.add_face_from_stream(\n",
    "        person_group_id = ikemens.person_group_id,\n",
    "        person_id = yosizawa.person_id,\n",
    "        image = image\n",
    "    )\n",
    "print(yosizawa_face_1)"
   ]
  },
  {
   "cell_type": "code",
   "execution_count": 44,
   "id": "b757a32f",
   "metadata": {},
   "outputs": [
    {
     "name": "stdout",
     "output_type": "stream",
     "text": [
      "{'additional_properties': {}, 'persisted_face_id': '6f30b74c-09f1-47c7-a3c0-6fe2951ba926', 'user_data': None}\n"
     ]
    }
   ],
   "source": [
    "# 画像送信でオードリーヘップバーンの顔写真をPersonに紐づける\n",
    "with open('img/yosizawa2.jpeg', 'rb') as image:\n",
    "    yosizawa_face_2 = face_client.person_group_person.add_face_from_stream(\n",
    "        person_group_id = ikemens.person_group_id,\n",
    "        person_id = yosizawa.person_id,\n",
    "        image = image\n",
    "    )\n",
    "print(yosizawa_face_2)"
   ]
  },
  {
   "cell_type": "code",
   "execution_count": 45,
   "id": "c86dbf75",
   "metadata": {},
   "outputs": [
    {
     "name": "stdout",
     "output_type": "stream",
     "text": [
      "{'additional_properties': {}, 'persisted_face_id': 'bbd0b5d0-e687-463e-b398-81b4574199c4', 'user_data': None}\n"
     ]
    }
   ],
   "source": [
    "# 画像送信でオードリーヘップバーンの顔写真をPersonに紐づける\n",
    "with open('img/yosizawa3.jpeg', 'rb') as image:\n",
    "    yosizawa_face_3 = face_client.person_group_person.add_face_from_stream(\n",
    "        person_group_id = ikemens.person_group_id,\n",
    "        person_id = yosizawa.person_id,\n",
    "        image = image\n",
    "    )\n",
    "print(yosizawa_face_3)"
   ]
  },
  {
   "cell_type": "code",
   "execution_count": 46,
   "id": "510c114c",
   "metadata": {},
   "outputs": [
    {
     "name": "stdout",
     "output_type": "stream",
     "text": [
      "{'additional_properties': {}, 'persisted_face_id': 'f2f3e977-588b-4fc0-8fe6-7f02b52a4d3e', 'user_data': None}\n"
     ]
    }
   ],
   "source": [
    "# 画像送信でオードリーヘップバーンの顔写真をPersonに紐づける\n",
    "with open('img/yosizawa4.png', 'rb') as image:\n",
    "    yosizawa_face_4 = face_client.person_group_person.add_face_from_stream(\n",
    "        person_group_id = ikemens.person_group_id,\n",
    "        person_id = yosizawa.person_id,\n",
    "        image = image\n",
    "    )\n",
    "print(yosizawa_face_4)"
   ]
  },
  {
   "cell_type": "code",
   "execution_count": 47,
   "id": "0db54f21",
   "metadata": {},
   "outputs": [
    {
     "name": "stdout",
     "output_type": "stream",
     "text": [
      "{'additional_properties': {}, 'name': None, 'user_data': None, 'person_id': 'ba4e7c50-b5f1-4386-b318-28ef04460d9d', 'persisted_face_ids': None}\n"
     ]
    }
   ],
   "source": [
    "print(yosizawa)"
   ]
  },
  {
   "cell_type": "code",
   "execution_count": 48,
   "id": "9def6897",
   "metadata": {},
   "outputs": [
    {
     "name": "stdout",
     "output_type": "stream",
     "text": [
      "{'additional_properties': {}, 'name': 'Ryo Yosizawa', 'user_data': None, 'person_id': 'ba4e7c50-b5f1-4386-b318-28ef04460d9d', 'persisted_face_ids': ['6f30b74c-09f1-47c7-a3c0-6fe2951ba926', 'a81b45f3-bc04-4a7c-96a8-f05d84f63c71', 'bbd0b5d0-e687-463e-b398-81b4574199c4', 'f2f3e977-588b-4fc0-8fe6-7f02b52a4d3e']}\n"
     ]
    }
   ],
   "source": [
    "# PersonGroupPerson get で最新のPerson情報を取得する\n",
    "yosizawa = face_client.person_group_person.get(\n",
    "        person_group_id = ikemens.person_group_id,\n",
    "        person_id = yosizawa.person_id\n",
    "    )\n",
    "print(yosizawa)"
   ]
  },
  {
   "cell_type": "code",
   "execution_count": 49,
   "id": "6c9de6ab",
   "metadata": {},
   "outputs": [
    {
     "name": "stdout",
     "output_type": "stream",
     "text": [
      "{'additional_properties': {}, 'name': 'Ryo Yosizawa', 'user_data': None, 'person_id': 'ba4e7c50-b5f1-4386-b318-28ef04460d9d', 'persisted_face_ids': ['6f30b74c-09f1-47c7-a3c0-6fe2951ba926', 'a81b45f3-bc04-4a7c-96a8-f05d84f63c71', 'bbd0b5d0-e687-463e-b398-81b4574199c4', 'f2f3e977-588b-4fc0-8fe6-7f02b52a4d3e']}\n"
     ]
    }
   ],
   "source": [
    "print(yosizawa)"
   ]
  },
  {
   "cell_type": "code",
   "execution_count": 50,
   "id": "59443543",
   "metadata": {},
   "outputs": [],
   "source": [
    "url='https://res.cloudinary.com/voce/image/fetch/w_750,f_auto,q_auto:eco/https://wp.i-voce.jp/wp-content/uploads/LvHjcT18_1597975878.jpg'"
   ]
  },
  {
   "cell_type": "code",
   "execution_count": 51,
   "id": "8f029b97",
   "metadata": {},
   "outputs": [
    {
     "name": "stdout",
     "output_type": "stream",
     "text": [
      "{'additional_properties': {}, 'face_id': '68249e8f-f756-4c3f-a406-ad3488a04e76', 'recognition_model': None, 'face_rectangle': <azure.cognitiveservices.vision.face.models._models_py3.FaceRectangle object at 0x108a89450>, 'face_landmarks': None, 'face_attributes': None}\n"
     ]
    }
   ],
   "source": [
    "# 検証用の顔検出\n",
    "detected_faces_4 = face_client.face.detect_with_url(url)\n",
    "print(detected_faces_4[0])"
   ]
  },
  {
   "cell_type": "code",
   "execution_count": 52,
   "id": "b081a552",
   "metadata": {},
   "outputs": [
    {
     "name": "stdout",
     "output_type": "stream",
     "text": [
      "{'additional_properties': {}, 'is_identical': True, 'confidence': 0.77248}\n"
     ]
    }
   ],
   "source": [
    "# personとfaceの比較\n",
    "verified = face_client.face.verify_face_to_person(\n",
    "    face_id = detected_faces_4[0].face_id,\n",
    "    person_group_id = ikemens.person_group_id,\n",
    "    person_id = yosizawa.person_id\n",
    ")\n",
    "print(verified)"
   ]
  },
  {
   "cell_type": "code",
   "execution_count": 55,
   "id": "7ba32a21",
   "metadata": {},
   "outputs": [
    {
     "name": "stdout",
     "output_type": "stream",
     "text": [
      "{'additional_properties': {}, 'name': 'Ryo Yosizawa', 'user_data': None, 'person_id': 'ba4e7c50-b5f1-4386-b318-28ef04460d9d', 'persisted_face_ids': ['6f30b74c-09f1-47c7-a3c0-6fe2951ba926', 'a81b45f3-bc04-4a7c-96a8-f05d84f63c71', 'bbd0b5d0-e687-463e-b398-81b4574199c4', 'f2f3e977-588b-4fc0-8fe6-7f02b52a4d3e']}\n"
     ]
    }
   ],
   "source": [
    "print(face_client.person_group_person.list('ikemen')[0])"
   ]
  },
  {
   "cell_type": "code",
   "execution_count": 56,
   "id": "c9ab87a4",
   "metadata": {},
   "outputs": [
    {
     "name": "stdout",
     "output_type": "stream",
     "text": [
      "[<azure.cognitiveservices.vision.face.models._models_py3.Person object at 0x108a75450>]\n"
     ]
    }
   ],
   "source": [
    "print(face_client.person_group_person.list('ikemen'))"
   ]
  },
  {
   "cell_type": "code",
   "execution_count": null,
   "id": "c5aa2d09",
   "metadata": {},
   "outputs": [],
   "source": []
  }
 ],
 "metadata": {
  "kernelspec": {
   "display_name": "Python 3",
   "language": "python",
   "name": "python3"
  },
  "language_info": {
   "codemirror_mode": {
    "name": "ipython",
    "version": 3
   },
   "file_extension": ".py",
   "mimetype": "text/x-python",
   "name": "python",
   "nbconvert_exporter": "python",
   "pygments_lexer": "ipython3",
   "version": "3.7.8"
  }
 },
 "nbformat": 4,
 "nbformat_minor": 5
}
