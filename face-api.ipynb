{
 "cells": [
  {
   "cell_type": "code",
   "execution_count": 1,
   "id": "5f96c29d",
   "metadata": {},
   "outputs": [],
   "source": [
    "from azure.cognitiveservices.vision.face import FaceClient\n",
    "from msrest.authentication import CognitiveServicesCredentials"
   ]
  },
  {
   "cell_type": "code",
   "execution_count": 2,
   "id": "10fdeeaa",
   "metadata": {},
   "outputs": [],
   "source": [
    "KEY = '2a4e7d1ac3c640dbb71f0ce039fce31e'\n",
    "ENDPOINT = 'https://face-api-bot.cognitiveservices.azure.com/' # ****.comまで\n",
    "# FaceAPIクライアントのインスタンス作成\n",
    "face_client = FaceClient(ENDPOINT, CognitiveServicesCredentials(KEY))"
   ]
  },
  {
   "cell_type": "code",
   "execution_count": 3,
   "id": "56f98c71",
   "metadata": {},
   "outputs": [],
   "source": [
    "url='https://eiga.k-img.com/images/person/92657/e58a6ca1c580b6f8/320.jpg?1498038761'"
   ]
  },
  {
   "cell_type": "code",
   "execution_count": 4,
   "id": "7c8c3e9f",
   "metadata": {},
   "outputs": [
    {
     "name": "stdout",
     "output_type": "stream",
     "text": [
      "[<azure.cognitiveservices.vision.face.models._models_py3.DetectedFace object at 0x110491490>]\n"
     ]
    }
   ],
   "source": [
    "# URL指定によって顔検出\n",
    "detected_faces = face_client.face.detect_with_url(\n",
    "    url = url, \n",
    "    return_face_attributes = ['age','gender','smile','glasses','emotion']\n",
    ")\n",
    "print(detected_faces)"
   ]
  },
  {
   "cell_type": "code",
   "execution_count": 5,
   "id": "7c22a991",
   "metadata": {},
   "outputs": [
    {
     "name": "stdout",
     "output_type": "stream",
     "text": [
      "{'additional_properties': {}, 'face_id': '2df815f7-6492-4bf1-87f2-a6a4dda05111', 'recognition_model': None, 'face_rectangle': <azure.cognitiveservices.vision.face.models._models_py3.FaceRectangle object at 0x110491410>, 'face_landmarks': None, 'face_attributes': <azure.cognitiveservices.vision.face.models._models_py3.FaceAttributes object at 0x110491450>}\n"
     ]
    }
   ],
   "source": [
    "print(detected_faces[0])"
   ]
  },
  {
   "cell_type": "code",
   "execution_count": 6,
   "id": "8d3b67d1",
   "metadata": {},
   "outputs": [
    {
     "name": "stdout",
     "output_type": "stream",
     "text": [
      "{'additional_properties': {}, 'age': 27.0, 'gender': <Gender.male: 'male'>, 'smile': 1.0, 'facial_hair': None, 'glasses': <GlassesType.no_glasses: 'noGlasses'>, 'head_pose': None, 'emotion': <azure.cognitiveservices.vision.face.models._models_py3.Emotion object at 0x110491510>, 'hair': None, 'makeup': None, 'occlusion': None, 'accessories': None, 'blur': None, 'exposure': None, 'noise': None, 'mask': None}\n"
     ]
    }
   ],
   "source": [
    "print(detected_faces[0].face_attributes)"
   ]
  },
  {
   "cell_type": "code",
   "execution_count": 7,
   "id": "b918b866",
   "metadata": {},
   "outputs": [
    {
     "name": "stdout",
     "output_type": "stream",
     "text": [
      "[<azure.cognitiveservices.vision.face.models._models_py3.DetectedFace object at 0x110491a50>]\n"
     ]
    }
   ],
   "source": [
    "# 読み込んだ画像を送信して顔検出\n",
    "with open('img/yosizawa.jpeg', 'rb') as image:\n",
    "    detected_faces_2 = face_client.face.detect_with_stream(\n",
    "        image, \n",
    "        return_face_attributes = ['age','gender','smile','glasses','emotion']\n",
    "    )\n",
    "print(detected_faces_2)"
   ]
  },
  {
   "cell_type": "code",
   "execution_count": 8,
   "id": "ad21d913",
   "metadata": {},
   "outputs": [
    {
     "name": "stdout",
     "output_type": "stream",
     "text": [
      "{'additional_properties': {}, 'face_id': '242c66a5-d9c5-42ad-8e2f-2ff5d4d492a7', 'recognition_model': None, 'face_rectangle': <azure.cognitiveservices.vision.face.models._models_py3.FaceRectangle object at 0x110491b50>, 'face_landmarks': None, 'face_attributes': <azure.cognitiveservices.vision.face.models._models_py3.FaceAttributes object at 0x110491a90>}\n",
      "{'additional_properties': {}, 'age': 27.0, 'gender': <Gender.male: 'male'>, 'smile': 0.855, 'facial_hair': None, 'glasses': <GlassesType.no_glasses: 'noGlasses'>, 'head_pose': None, 'emotion': <azure.cognitiveservices.vision.face.models._models_py3.Emotion object at 0x110491c50>, 'hair': None, 'makeup': None, 'occlusion': None, 'accessories': None, 'blur': None, 'exposure': None, 'noise': None, 'mask': None}\n"
     ]
    }
   ],
   "source": [
    "print(detected_faces_2[0])\n",
    "print(detected_faces_2[0].face_attributes)"
   ]
  },
  {
   "cell_type": "code",
   "execution_count": 9,
   "id": "8c7eb3f4",
   "metadata": {},
   "outputs": [],
   "source": [
    "# 2つの顔検出結果のFaceIdを取得する\n",
    "face_id_1 = detected_faces[0].face_id\n",
    "face_id_2 = detected_faces_2[0].face_id"
   ]
  },
  {
   "cell_type": "code",
   "execution_count": 10,
   "id": "2ba223c1",
   "metadata": {},
   "outputs": [
    {
     "name": "stdout",
     "output_type": "stream",
     "text": [
      "{'additional_properties': {}, 'is_identical': True, 'confidence': 0.67141}\n"
     ]
    }
   ],
   "source": [
    "# 2つの顔が同じ人物かどうか判定する\n",
    "verified = face_client.face.verify_face_to_face(face_id_1, face_id_2)\n",
    "print(verified)"
   ]
  },
  {
   "cell_type": "code",
   "execution_count": 11,
   "id": "03d0d50e",
   "metadata": {},
   "outputs": [],
   "source": [
    "# Person GroupのIDを指定\n",
    "person_group_id = 'moviestars'"
   ]
  },
  {
   "cell_type": "code",
   "execution_count": 12,
   "id": "ce4b8e28",
   "metadata": {},
   "outputs": [],
   "source": [
    "# moviestarsというグループを作成する\n",
    "face_client.person_group.create(\n",
    "    person_group_id,\n",
    "    name='Person Group for LINE Bot'\n",
    ")"
   ]
  },
  {
   "cell_type": "code",
   "execution_count": 13,
   "id": "921ca71f",
   "metadata": {},
   "outputs": [
    {
     "name": "stdout",
     "output_type": "stream",
     "text": [
      "{'additional_properties': {}, 'name': 'Person Group for LINE Bot', 'user_data': None, 'recognition_model': None, 'person_group_id': 'moviestars'}\n"
     ]
    }
   ],
   "source": [
    "# person groupを確認\n",
    "moviestars = face_client.person_group.get(person_group_id)\n",
    "print(moviestars)"
   ]
  },
  {
   "cell_type": "code",
   "execution_count": 14,
   "id": "eb6d6ef5",
   "metadata": {},
   "outputs": [],
   "source": [
    "# 吉沢亮の名前を登録\n",
    "yosizawa_name = 'Ryo Yosizawa'"
   ]
  },
  {
   "cell_type": "code",
   "execution_count": 15,
   "id": "45673c0f",
   "metadata": {},
   "outputs": [
    {
     "name": "stdout",
     "output_type": "stream",
     "text": [
      "{'additional_properties': {}, 'name': None, 'user_data': None, 'person_id': '109326f4-efc1-4873-b522-f7b9b0c30688', 'persisted_face_ids': None}\n"
     ]
    }
   ],
   "source": [
    "# Personを登録\n",
    "yosizawa = face_client.person_group_person.create(\n",
    "    person_group_id = moviestars.person_group_id, # PersonGroupのIDを指定\n",
    "    name = yosizawa_name # 登録するPersonの名前を指定\n",
    ")\n",
    "print(yosizawa)"
   ]
  },
  {
   "cell_type": "code",
   "execution_count": 16,
   "id": "88439432",
   "metadata": {},
   "outputs": [
    {
     "name": "stdout",
     "output_type": "stream",
     "text": [
      "{'additional_properties': {}, 'persisted_face_id': '6ebb1bc1-eea8-4b17-adfc-41a8396f1c5f', 'user_data': None}\n"
     ]
    }
   ],
   "source": [
    "# url指定で吉沢亮の顔写真をPersonに紐づける\n",
    "yosizawa_face_1 = face_client.person_group_person.add_face_from_url(\n",
    "    person_group_id = moviestars.person_group_id,\n",
    "    person_id = yosizawa.person_id,\n",
    "    url = url\n",
    ")\n",
    "print(yosizawa_face_1)"
   ]
  },
  {
   "cell_type": "code",
   "execution_count": 20,
   "id": "06ce9f24",
   "metadata": {},
   "outputs": [
    {
     "name": "stdout",
     "output_type": "stream",
     "text": [
      "{'additional_properties': {}, 'persisted_face_id': 'bb4bdb8f-5079-43d8-84ba-7498c57826cc', 'user_data': None}\n"
     ]
    }
   ],
   "source": [
    "# 画像送信で吉沢亮の顔写真をPersonに紐づける\n",
    "with open('img/yosizawa.jpeg', 'rb') as image:\n",
    "    yosizawa_face_2 = face_client.person_group_person.add_face_from_stream(\n",
    "        person_group_id = moviestars.person_group_id,\n",
    "        person_id = yosizawa.person_id,\n",
    "        image = image\n",
    "    )\n",
    "print(yosizawa_face_2)"
   ]
  },
  {
   "cell_type": "code",
   "execution_count": 21,
   "id": "92f7ce9c",
   "metadata": {},
   "outputs": [
    {
     "name": "stdout",
     "output_type": "stream",
     "text": [
      "{'additional_properties': {}, 'persisted_face_id': '158271e1-db87-46b3-a796-f7ea69c217b5', 'user_data': None}\n"
     ]
    }
   ],
   "source": [
    "# 画像送信で吉沢亮の顔写真をPersonに紐づける\n",
    "with open('img/yosizawa2.jpeg', 'rb') as image:\n",
    "    yosizawa_face_3 = face_client.person_group_person.add_face_from_stream(\n",
    "        person_group_id = moviestars.person_group_id,\n",
    "        person_id = yosizawa.person_id,\n",
    "        image = image\n",
    "    )\n",
    "print(yosizawa_face_3)"
   ]
  },
  {
   "cell_type": "code",
   "execution_count": 22,
   "id": "0511a26c",
   "metadata": {},
   "outputs": [
    {
     "name": "stdout",
     "output_type": "stream",
     "text": [
      "{'additional_properties': {}, 'persisted_face_id': '301ef659-ebd8-4f3f-acde-195909a11082', 'user_data': None}\n"
     ]
    }
   ],
   "source": [
    "# 画像送信で吉沢亮の顔写真をPersonに紐づける\n",
    "with open('img/yosizawa3.jpeg', 'rb') as image:\n",
    "    yosizawa_face_4 = face_client.person_group_person.add_face_from_stream(\n",
    "        person_group_id = moviestars.person_group_id,\n",
    "        person_id = yosizawa.person_id,\n",
    "        image = image\n",
    "    )\n",
    "print(yosizawa_face_4)"
   ]
  },
  {
   "cell_type": "code",
   "execution_count": 24,
   "id": "4700cbd6",
   "metadata": {},
   "outputs": [
    {
     "name": "stdout",
     "output_type": "stream",
     "text": [
      "{'additional_properties': {}, 'persisted_face_id': 'd6cfa46c-ee66-4c44-b597-88e25fee83ce', 'user_data': None}\n"
     ]
    }
   ],
   "source": [
    "# 画像送信で吉沢亮の顔写真をPersonに紐づける\n",
    "with open('img/yosizawa4.png', 'rb') as image:\n",
    "    yosizawa_face_5 = face_client.person_group_person.add_face_from_stream(\n",
    "        person_group_id = moviestars.person_group_id,\n",
    "        person_id = yosizawa.person_id,\n",
    "        image = image\n",
    "    )\n",
    "print(yosizawa_face_5)"
   ]
  },
  {
   "cell_type": "code",
   "execution_count": 25,
   "id": "a05c0206",
   "metadata": {},
   "outputs": [
    {
     "name": "stdout",
     "output_type": "stream",
     "text": [
      "{'additional_properties': {}, 'name': 'Ryo Yosizawa', 'user_data': None, 'person_id': '109326f4-efc1-4873-b522-f7b9b0c30688', 'persisted_face_ids': ['158271e1-db87-46b3-a796-f7ea69c217b5', '301ef659-ebd8-4f3f-acde-195909a11082', '6ebb1bc1-eea8-4b17-adfc-41a8396f1c5f', '75a01727-f6ce-48fc-b281-f1423d1bcf23', 'bb4bdb8f-5079-43d8-84ba-7498c57826cc', 'd33c6123-7ad6-4996-a2a2-2335193f36dc', 'd6cfa46c-ee66-4c44-b597-88e25fee83ce']}\n"
     ]
    }
   ],
   "source": [
    "# PersonGroupPerson get で最新のPerson情報を取得する\n",
    "yosizawa = face_client.person_group_person.get(\n",
    "        person_group_id = moviestars.person_group_id,\n",
    "        person_id = yosizawa.person_id\n",
    "    )\n",
    "print(yosizawa)"
   ]
  },
  {
   "cell_type": "code",
   "execution_count": 26,
   "id": "29f9dc12",
   "metadata": {},
   "outputs": [],
   "source": [
    "url='https://eiga.k-img.com/images/person/92657/e58a6ca1c580b6f8/320.jpg?1498038761'"
   ]
  },
  {
   "cell_type": "code",
   "execution_count": 27,
   "id": "e1b58c13",
   "metadata": {},
   "outputs": [
    {
     "name": "stdout",
     "output_type": "stream",
     "text": [
      "{'additional_properties': {}, 'face_id': '462240ce-b00a-419a-8576-e6249a4c161e', 'recognition_model': None, 'face_rectangle': <azure.cognitiveservices.vision.face.models._models_py3.FaceRectangle object at 0x10bf4a8d0>, 'face_landmarks': None, 'face_attributes': None}\n"
     ]
    }
   ],
   "source": [
    "# 検証用の顔検出\n",
    "detected_faces_3 = face_client.face.detect_with_url(url)\n",
    "print(detected_faces_3[0])"
   ]
  },
  {
   "cell_type": "code",
   "execution_count": 28,
   "id": "c3226938",
   "metadata": {},
   "outputs": [
    {
     "name": "stdout",
     "output_type": "stream",
     "text": [
      "{'additional_properties': {}, 'is_identical': True, 'confidence': 0.82404}\n"
     ]
    }
   ],
   "source": [
    "# personとfaceの比較\n",
    "verified = face_client.face.verify_face_to_person(\n",
    "    face_id = detected_faces_3[0].face_id,\n",
    "    person_group_id = moviestars.person_group_id,\n",
    "    person_id = yosizawa.person_id\n",
    ")\n",
    "print(verified)"
   ]
  },
  {
   "cell_type": "code",
   "execution_count": 30,
   "id": "4f7105a1",
   "metadata": {},
   "outputs": [
    {
     "name": "stdout",
     "output_type": "stream",
     "text": [
      "{'additional_properties': {}, 'name': 'Ryo Yosizawa', 'user_data': None, 'person_id': '109326f4-efc1-4873-b522-f7b9b0c30688', 'persisted_face_ids': ['158271e1-db87-46b3-a796-f7ea69c217b5', '301ef659-ebd8-4f3f-acde-195909a11082', '6ebb1bc1-eea8-4b17-adfc-41a8396f1c5f', '75a01727-f6ce-48fc-b281-f1423d1bcf23', 'bb4bdb8f-5079-43d8-84ba-7498c57826cc', 'd33c6123-7ad6-4996-a2a2-2335193f36dc', 'd6cfa46c-ee66-4c44-b597-88e25fee83ce']}\n"
     ]
    }
   ],
   "source": [
    "print(face_client.person_group_person.list('moviestars')[0])"
   ]
  },
  {
   "cell_type": "code",
   "execution_count": null,
   "id": "511f585b",
   "metadata": {},
   "outputs": [],
   "source": []
  }
 ],
 "metadata": {
  "kernelspec": {
   "display_name": "Python 3",
   "language": "python",
   "name": "python3"
  },
  "language_info": {
   "codemirror_mode": {
    "name": "ipython",
    "version": 3
   },
   "file_extension": ".py",
   "mimetype": "text/x-python",
   "name": "python",
   "nbconvert_exporter": "python",
   "pygments_lexer": "ipython3",
   "version": "3.7.8"
  }
 },
 "nbformat": 4,
 "nbformat_minor": 5
}
